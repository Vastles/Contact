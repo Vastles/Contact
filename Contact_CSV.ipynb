{
 "cells": [
  {
   "attachments": {},
   "cell_type": "markdown",
   "metadata": {},
   "source": [
    "# Directory CSV"
   ]
  },
  {
   "cell_type": "code",
   "execution_count": null,
   "metadata": {},
   "outputs": [],
   "source": [
    "from datetime import date\n",
    "import pandas as pd\n",
    "\n",
    "list_first_name = []\n",
    "list_last_name = []\n",
    "list_phone_number = []\n",
    "list_creation_date = []\n",
    "\n",
    "choix = input(\"Do you want to add a contact ? (Y/N) \\n\")\n",
    "\n",
    "while choix == \"Y\":\n",
    "    first_name = input(\"First Name : \\n\")\n",
    "    list_first_name.append(first_name)\n",
    "    last_name = input(\"Last Name : \\n\")\n",
    "    list_last_name.append(last_name)\n",
    "    phone_number = input(\"Phone Number : \\n\")\n",
    "    list_phone_number.append(phone_number)\n",
    "    creation_date = date.today()\n",
    "    list_creation_date.append(creation_date)\n",
    "    choix = input(\"Do you want add to a contact ? (Y/N) \\n\")\n",
    "\n",
    "data = {}\n",
    "data['First Name'] = list_first_name\n",
    "data['Last Name'] = list_last_name\n",
    "data['Phone Number'] = list_phone_number\n",
    "data['Creation Date'] = list_creation_date\n",
    "data_frame = pd.DataFrame(data)\n",
    "\n",
    "data_frame.to_csv('contact.csv', index = False)\n",
    "contact_csv = pd.read_csv('contact.csv')\n",
    "contact_csv"
   ]
  }
 ],
 "metadata": {
  "kernelspec": {
   "display_name": "Python 3",
   "language": "python",
   "name": "python3"
  },
  "language_info": {
   "name": "python",
   "version": "3.10.9 (tags/v3.10.9:1dd9be6, Dec  6 2022, 20:01:21) [MSC v.1934 64 bit (AMD64)]"
  },
  "orig_nbformat": 4,
  "vscode": {
   "interpreter": {
    "hash": "65a440aeac0c89e2af7569e0aa53b64434c4b69eb6285e2b0d174d9bca190d54"
   }
  }
 },
 "nbformat": 4,
 "nbformat_minor": 2
}
