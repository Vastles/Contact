{
 "cells": [
  {
   "attachments": {},
   "cell_type": "markdown",
   "metadata": {},
   "source": [
    "# Directory"
   ]
  },
  {
   "attachments": {},
   "cell_type": "markdown",
   "metadata": {},
   "source": [
    "Variable"
   ]
  },
  {
   "cell_type": "code",
   "execution_count": null,
   "metadata": {},
   "outputs": [],
   "source": [
    "from datetime import date\n",
    "\n",
    "first_name = input(\"First Name : \\n\")\n",
    "last_name = input(\"Last Name : \\n\")\n",
    "phone_number = input(\"Phone Number : \\n\")\n",
    "cration_date = date.today()"
   ]
  },
  {
   "attachments": {},
   "cell_type": "markdown",
   "metadata": {},
   "source": [
    "Create & Show Contact"
   ]
  },
  {
   "cell_type": "code",
   "execution_count": 21,
   "metadata": {},
   "outputs": [
    {
     "name": "stdout",
     "output_type": "stream",
     "text": [
      "Victor Deschateaux\n",
      "Phone Number :  0695206171\n",
      "Friend since 2023-01-25\n"
     ]
    }
   ],
   "source": [
    "def create_contact():\n",
    "\n",
    "    first_name = input(\"First Name : \\n\")\n",
    "    last_name = input(\"Last Name : \\n\")\n",
    "    phone_number = input(\"Phone Number : \\n\")\n",
    "\n",
    "    data = {}\n",
    "    data['First Name'] = first_name\n",
    "    data['Last Name'] = last_name\n",
    "    data['Phone Number'] = phone_number\n",
    "    data['Creation Date'] = date.today()\n",
    "    return data\n",
    "\n",
    "def show_contact(dictionnary):\n",
    "    print(dictionnary['First Name'], dictionnary['Last Name'])\n",
    "    print(\"Phone Number : \", dictionnary['Phone Number'])\n",
    "    print(\"Friend since\", dictionnary['Creation Date'])\n",
    "\n",
    "show_contact(create_contact())"
   ]
  },
  {
   "attachments": {},
   "cell_type": "markdown",
   "metadata": {},
   "source": [
    "Source Code for CSV backup"
   ]
  },
  {
   "cell_type": "code",
   "execution_count": 5,
   "metadata": {},
   "outputs": [
    {
     "data": {
      "text/html": [
       "<div>\n",
       "<style scoped>\n",
       "    .dataframe tbody tr th:only-of-type {\n",
       "        vertical-align: middle;\n",
       "    }\n",
       "\n",
       "    .dataframe tbody tr th {\n",
       "        vertical-align: top;\n",
       "    }\n",
       "\n",
       "    .dataframe thead th {\n",
       "        text-align: right;\n",
       "    }\n",
       "</style>\n",
       "<table border=\"1\" class=\"dataframe\">\n",
       "  <thead>\n",
       "    <tr style=\"text-align: right;\">\n",
       "      <th></th>\n",
       "      <th>First Name</th>\n",
       "      <th>Last Name</th>\n",
       "      <th>Phone Number</th>\n",
       "      <th>Creation Date</th>\n",
       "    </tr>\n",
       "  </thead>\n",
       "  <tbody>\n",
       "    <tr>\n",
       "      <th>0</th>\n",
       "      <td>Victor</td>\n",
       "      <td>Deschateaux</td>\n",
       "      <td>695206171</td>\n",
       "      <td>2023-01-25</td>\n",
       "    </tr>\n",
       "  </tbody>\n",
       "</table>\n",
       "</div>"
      ],
      "text/plain": [
       "  First Name    Last Name  Phone Number Creation Date\n",
       "0     Victor  Deschateaux     695206171    2023-01-25"
      ]
     },
     "execution_count": 5,
     "metadata": {},
     "output_type": "execute_result"
    }
   ],
   "source": [
    "from datetime import date\n",
    "import pandas as pd\n",
    "\n",
    "list_first_name = []\n",
    "list_last_name = []\n",
    "list_phone_number = []\n",
    "list_creation_date = []\n",
    "\n",
    "choix = input(\"Do you want to add a contact ? (Y/N) \\n\")\n",
    "\n",
    "while choix == \"Y\":\n",
    "    first_name = input(\"First Name : \\n\")\n",
    "    list_first_name.append(first_name)\n",
    "    last_name = input(\"Last Name : \\n\")\n",
    "    list_last_name.append(last_name)\n",
    "    phone_number = input(\"Phone Number : \\n\")\n",
    "    list_phone_number.append(phone_number)\n",
    "    creation_date = date.today()\n",
    "    list_creation_date.append(creation_date)\n",
    "    choix = input(\"Do you want add to a contact ? (Y/N) \\n\")\n",
    "\n",
    "data = {}\n",
    "data['First Name'] = list_first_name\n",
    "data['Last Name'] = list_last_name\n",
    "data['Phone Number'] = list_phone_number\n",
    "data['Creation Date'] = list_creation_date\n",
    "data_frame = pd.DataFrame(data)\n",
    "\n",
    "data_frame.to_csv('contact.csv', index = False)\n",
    "contact_csv = pd.read_csv('contact.csv')\n",
    "contact_csv"
   ]
  }
 ],
 "metadata": {
  "kernelspec": {
   "display_name": "Python 3",
   "language": "python",
   "name": "python3"
  },
  "language_info": {
   "codemirror_mode": {
    "name": "ipython",
    "version": 3
   },
   "file_extension": ".py",
   "mimetype": "text/x-python",
   "name": "python",
   "nbconvert_exporter": "python",
   "pygments_lexer": "ipython3",
   "version": "3.10.9"
  },
  "orig_nbformat": 4,
  "vscode": {
   "interpreter": {
    "hash": "65a440aeac0c89e2af7569e0aa53b64434c4b69eb6285e2b0d174d9bca190d54"
   }
  }
 },
 "nbformat": 4,
 "nbformat_minor": 2
}
