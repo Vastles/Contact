{
 "cells": [
  {
   "attachments": {},
   "cell_type": "markdown",
   "metadata": {},
   "source": [
    "# Directory"
   ]
  },
  {
   "cell_type": "code",
   "execution_count": 21,
   "metadata": {},
   "outputs": [
    {
     "name": "stdout",
     "output_type": "stream",
     "text": [
      "Victor Deschateaux\n",
      "Phone Number :  0695206171\n",
      "Friend since 2023-01-25\n"
     ]
    }
   ],
   "source": [
    "def create_contact():\n",
    "\n",
    "    first_name = input(\"First Name : \\n\")\n",
    "    last_name = input(\"Last Name : \\n\")\n",
    "    phone_number = input(\"Phone Number : \\n\")\n",
    "\n",
    "    data = {}\n",
    "    data['First Name'] = first_name\n",
    "    data['Last Name'] = last_name\n",
    "    data['Phone Number'] = phone_number\n",
    "    data['Creation Date'] = date.today()\n",
    "    return data\n",
    "\n",
    "def show_contact(dictionnary):\n",
    "    print(dictionnary['First Name'], dictionnary['Last Name'])\n",
    "    print(\"Phone Number :\", dictionnary['Phone Number'])\n",
    "    print(\"Friend since\", dictionnary['Creation Date'])\n",
    "\n",
    "show_contact(create_contact())"
   ]
  }
 ],
 "metadata": {
  "kernelspec": {
   "display_name": "Python 3",
   "language": "python",
   "name": "python3"
  },
  "language_info": {
   "codemirror_mode": {
    "name": "ipython",
    "version": 3
   },
   "file_extension": ".py",
   "mimetype": "text/x-python",
   "name": "python",
   "nbconvert_exporter": "python",
   "pygments_lexer": "ipython3",
   "version": "3.10.9 (tags/v3.10.9:1dd9be6, Dec  6 2022, 20:01:21) [MSC v.1934 64 bit (AMD64)]"
  },
  "orig_nbformat": 4,
  "vscode": {
   "interpreter": {
    "hash": "65a440aeac0c89e2af7569e0aa53b64434c4b69eb6285e2b0d174d9bca190d54"
   }
  }
 },
 "nbformat": 4,
 "nbformat_minor": 2
}
